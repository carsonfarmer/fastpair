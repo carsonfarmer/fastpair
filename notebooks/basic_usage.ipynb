{
 "cells": [
  {
   "cell_type": "markdown",
   "id": "fc0bc877-aa93-40af-9b4a-4d9d89ded2b9",
   "metadata": {},
   "source": [
    "# Basics of FastPair\n",
    "\n",
    "1. Setup\n",
    "2. Properties\n",
    "3. Appending Values & Vizualization"
   ]
  },
  {
   "cell_type": "code",
   "execution_count": 1,
   "id": "2da42c3d-a668-456c-9d05-5b826d2ca963",
   "metadata": {
    "execution": {
     "iopub.execute_input": "2024-06-15T18:59:33.402265Z",
     "iopub.status.busy": "2024-06-15T18:59:33.401881Z",
     "iopub.status.idle": "2024-06-15T18:59:33.431762Z",
     "shell.execute_reply": "2024-06-15T18:59:33.430862Z",
     "shell.execute_reply.started": "2024-06-15T18:59:33.402240Z"
    }
   },
   "outputs": [
    {
     "name": "stdout",
     "output_type": "stream",
     "text": [
      "Last updated: 2024-06-15T14:59:33.420817-04:00\n",
      "\n",
      "Python implementation: CPython\n",
      "Python version       : 3.12.3\n",
      "IPython version      : 8.25.0\n",
      "\n",
      "Compiler    : Clang 16.0.6 \n",
      "OS          : Darwin\n",
      "Release     : 23.5.0\n",
      "Machine     : arm64\n",
      "Processor   : arm\n",
      "CPU cores   : 8\n",
      "Architecture: 64bit\n",
      "\n"
     ]
    }
   ],
   "source": [
    "%config InlineBackend.figure_format = \"retina\"\n",
    "%load_ext watermark\n",
    "%watermark"
   ]
  },
  {
   "cell_type": "code",
   "execution_count": 2,
   "id": "5f2c2691-2f11-4649-aafd-eaf734d5c368",
   "metadata": {
    "execution": {
     "iopub.execute_input": "2024-06-15T18:59:33.432574Z",
     "iopub.status.busy": "2024-06-15T18:59:33.432449Z",
     "iopub.status.idle": "2024-06-15T18:59:33.660652Z",
     "shell.execute_reply": "2024-06-15T18:59:33.660447Z",
     "shell.execute_reply.started": "2024-06-15T18:59:33.432556Z"
    }
   },
   "outputs": [
    {
     "name": "stdout",
     "output_type": "stream",
     "text": [
      "Watermark: 2.4.3\n",
      "\n",
      "matplotlib: 3.9.0\n",
      "fastpair  : 0.1.1.dev8+g5f8e7a5.d20240611\n",
      "\n"
     ]
    }
   ],
   "source": [
    "import matplotlib.pyplot as plt\n",
    "\n",
    "import fastpair\n",
    "\n",
    "%watermark -w\n",
    "%watermark -iv"
   ]
  },
  {
   "cell_type": "markdown",
   "id": "7a01e92a-78cd-4ced-ac36-868e3ae74969",
   "metadata": {},
   "source": [
    "---------------------\n",
    "\n",
    "## 1. Properties\n",
    "\n",
    "The simplest way to use a `FastPair` data-structure is to initialize one and then update it with data points (via the `+=` operator), which we will explore later. In this first example, we declare 3 2D points and add them to a `FastPair` object."
   ]
  },
  {
   "cell_type": "code",
   "execution_count": 3,
   "id": "c4845e9d-f5d5-4f92-94f8-72f809f0fac9",
   "metadata": {
    "execution": {
     "iopub.execute_input": "2024-06-15T18:59:33.661746Z",
     "iopub.status.busy": "2024-06-15T18:59:33.661641Z",
     "iopub.status.idle": "2024-06-15T18:59:33.664384Z",
     "shell.execute_reply": "2024-06-15T18:59:33.664183Z",
     "shell.execute_reply.started": "2024-06-15T18:59:33.661739Z"
    }
   },
   "outputs": [
    {
     "data": {
      "text/plain": [
       "[(1, 1), (2, 2), (4, 4)]"
      ]
     },
     "execution_count": 3,
     "metadata": {},
     "output_type": "execute_result"
    }
   ],
   "source": [
    "points = [(1, 1), (2, 2), (4, 4)]\n",
    "points"
   ]
  },
  {
   "cell_type": "markdown",
   "id": "9f483bbe-9712-436a-9d77-edf5ea63c3f6",
   "metadata": {},
   "source": [
    "Create empty data-structure with default values:\n",
    "\n",
    "* `min_points=10`\n",
    "* `default=scipy.spatial.distance.euclidean`"
   ]
  },
  {
   "cell_type": "code",
   "execution_count": 4,
   "id": "7e37b5d2-e626-486d-a02f-c982eea73907",
   "metadata": {
    "execution": {
     "iopub.execute_input": "2024-06-15T18:59:33.664794Z",
     "iopub.status.busy": "2024-06-15T18:59:33.664731Z",
     "iopub.status.idle": "2024-06-15T18:59:33.666585Z",
     "shell.execute_reply": "2024-06-15T18:59:33.666413Z",
     "shell.execute_reply.started": "2024-06-15T18:59:33.664787Z"
    }
   },
   "outputs": [
    {
     "data": {
      "text/plain": [
       "<fastpair.base.FastPair at 0x118a22840>"
      ]
     },
     "execution_count": 4,
     "metadata": {},
     "output_type": "execute_result"
    }
   ],
   "source": [
    "fp = fastpair.FastPair()\n",
    "fp"
   ]
  },
  {
   "cell_type": "markdown",
   "id": "1b2f499d-abbf-4e55-8851-0247865578ef",
   "metadata": {},
   "source": [
    "Add points all at once and build conga line to start:"
   ]
  },
  {
   "cell_type": "code",
   "execution_count": 5,
   "id": "895e21eb-9449-4aa5-999b-5ac13f9e4219",
   "metadata": {
    "execution": {
     "iopub.execute_input": "2024-06-15T18:59:33.666934Z",
     "iopub.status.busy": "2024-06-15T18:59:33.666875Z",
     "iopub.status.idle": "2024-06-15T18:59:33.668678Z",
     "shell.execute_reply": "2024-06-15T18:59:33.668503Z",
     "shell.execute_reply.started": "2024-06-15T18:59:33.666927Z"
    }
   },
   "outputs": [
    {
     "data": {
      "text/plain": [
       "<fastpair.base.FastPair at 0x118a22840>"
      ]
     },
     "execution_count": 5,
     "metadata": {},
     "output_type": "execute_result"
    }
   ],
   "source": [
    "fp.build(points)"
   ]
  },
  {
   "cell_type": "markdown",
   "id": "93727945-6e73-497b-81ab-2f90a6d47099",
   "metadata": {},
   "source": [
    "### `FastPair` has several useful properties and methods\n",
    "\n",
    "1. Checking the size of the data-structure (i.e., how many points are currently stored).\n",
    "2. Testing for containment of a given point\n",
    "3. Various methods for computing the closest pair\n",
    "4. Finding the neighbor of a given point\n",
    "5. Computing multiple distances at once \n",
    "6. ... and *even merging points (clusters)*.\n",
    "\n",
    "<div class=\"alert alert-block alert-warning\">\n",
    "<b>Important:</b> merging functionality is not currently implemented\n",
    "</div>\n",
    "\n",
    "#### Checking size\n",
    "\n",
    "How many point are currently stored?"
   ]
  },
  {
   "cell_type": "code",
   "execution_count": 6,
   "id": "01160597-4c0f-4cd1-9cd4-b7dc8bce6b2a",
   "metadata": {
    "execution": {
     "iopub.execute_input": "2024-06-15T18:59:33.669075Z",
     "iopub.status.busy": "2024-06-15T18:59:33.668999Z",
     "iopub.status.idle": "2024-06-15T18:59:33.670639Z",
     "shell.execute_reply": "2024-06-15T18:59:33.670479Z",
     "shell.execute_reply.started": "2024-06-15T18:59:33.669069Z"
    }
   },
   "outputs": [
    {
     "data": {
      "text/plain": [
       "3"
      ]
     },
     "execution_count": 6,
     "metadata": {},
     "output_type": "execute_result"
    }
   ],
   "source": [
    "len(fp)"
   ]
  },
  {
   "cell_type": "markdown",
   "id": "810822de-e09a-45b2-82c9-9d6b27cb0053",
   "metadata": {},
   "source": [
    "#### Testing containment\n",
    "\n",
    "Is the first element of `points` in the `fp` instance?"
   ]
  },
  {
   "cell_type": "code",
   "execution_count": 7,
   "id": "9d7adeb7-36a4-41e7-93e9-9a1fee6edbed",
   "metadata": {
    "execution": {
     "iopub.execute_input": "2024-06-15T18:59:33.671017Z",
     "iopub.status.busy": "2024-06-15T18:59:33.670952Z",
     "iopub.status.idle": "2024-06-15T18:59:33.672651Z",
     "shell.execute_reply": "2024-06-15T18:59:33.672478Z",
     "shell.execute_reply.started": "2024-06-15T18:59:33.671011Z"
    }
   },
   "outputs": [
    {
     "data": {
      "text/plain": [
       "True"
      ]
     },
     "execution_count": 7,
     "metadata": {},
     "output_type": "execute_result"
    }
   ],
   "source": [
    "points[0] in fp"
   ]
  },
  {
   "cell_type": "markdown",
   "id": "0e039729-481c-46a9-a4df-3d2f92083c80",
   "metadata": {},
   "source": [
    "Is a point as `(25, 25)` in the `fp` instance?"
   ]
  },
  {
   "cell_type": "code",
   "execution_count": 8,
   "id": "30355b1a-3757-43c0-ab95-0733f4f50e81",
   "metadata": {
    "execution": {
     "iopub.execute_input": "2024-06-15T18:59:33.672954Z",
     "iopub.status.busy": "2024-06-15T18:59:33.672898Z",
     "iopub.status.idle": "2024-06-15T18:59:33.674490Z",
     "shell.execute_reply": "2024-06-15T18:59:33.674320Z",
     "shell.execute_reply.started": "2024-06-15T18:59:33.672948Z"
    }
   },
   "outputs": [
    {
     "data": {
      "text/plain": [
       "False"
      ]
     },
     "execution_count": 8,
     "metadata": {},
     "output_type": "execute_result"
    }
   ],
   "source": [
    "(25, 25) in fp"
   ]
  },
  {
   "cell_type": "markdown",
   "id": "caadbd5c-d7c4-4445-ba8c-ef621580d5e6",
   "metadata": {},
   "source": [
    "#### Computing the closest pair\n",
    "\n",
    "Simply call the `fp` instance."
   ]
  },
  {
   "cell_type": "code",
   "execution_count": 9,
   "id": "78034246-f548-4a1c-9872-ea071462c058",
   "metadata": {
    "execution": {
     "iopub.execute_input": "2024-06-15T18:59:33.674824Z",
     "iopub.status.busy": "2024-06-15T18:59:33.674719Z",
     "iopub.status.idle": "2024-06-15T18:59:33.676467Z",
     "shell.execute_reply": "2024-06-15T18:59:33.676278Z",
     "shell.execute_reply.started": "2024-06-15T18:59:33.674818Z"
    }
   },
   "outputs": [
    {
     "data": {
      "text/plain": [
       "(1.4142135623730951, ((1, 1), (2, 2)))"
      ]
     },
     "execution_count": 9,
     "metadata": {},
     "output_type": "execute_result"
    }
   ],
   "source": [
    "fp()"
   ]
  },
  {
   "cell_type": "markdown",
   "id": "237107b0-265c-451a-85cc-2dfdf5596754",
   "metadata": {},
   "source": [
    "Call the `closest_pair` method of the `fp` instance."
   ]
  },
  {
   "cell_type": "code",
   "execution_count": 10,
   "id": "9f7315f7-72d0-4693-9808-d1e325f93c8d",
   "metadata": {
    "execution": {
     "iopub.execute_input": "2024-06-15T18:59:33.676827Z",
     "iopub.status.busy": "2024-06-15T18:59:33.676771Z",
     "iopub.status.idle": "2024-06-15T18:59:33.678580Z",
     "shell.execute_reply": "2024-06-15T18:59:33.678391Z",
     "shell.execute_reply.started": "2024-06-15T18:59:33.676821Z"
    }
   },
   "outputs": [
    {
     "data": {
      "text/plain": [
       "(1.4142135623730951, ((1, 1), (2, 2)))"
      ]
     },
     "execution_count": 10,
     "metadata": {},
     "output_type": "execute_result"
    }
   ],
   "source": [
    "fp.closest_pair()"
   ]
  },
  {
   "cell_type": "markdown",
   "id": "d68a8c5a-094a-4e3e-bce5-f8d3684943e8",
   "metadata": {},
   "source": [
    "Call the `closest_pair_brute_force` method."
   ]
  },
  {
   "cell_type": "code",
   "execution_count": 11,
   "id": "37366768-415c-42ab-9c18-110750160483",
   "metadata": {
    "execution": {
     "iopub.execute_input": "2024-06-15T18:59:33.678945Z",
     "iopub.status.busy": "2024-06-15T18:59:33.678887Z",
     "iopub.status.idle": "2024-06-15T18:59:33.681266Z",
     "shell.execute_reply": "2024-06-15T18:59:33.681076Z",
     "shell.execute_reply.started": "2024-06-15T18:59:33.678939Z"
    }
   },
   "outputs": [
    {
     "data": {
      "text/plain": [
       "(1.4142135623730951, ((1, 1), (2, 2)))"
      ]
     },
     "execution_count": 11,
     "metadata": {},
     "output_type": "execute_result"
    }
   ],
   "source": [
    "fp.closest_pair_brute_force()"
   ]
  },
  {
   "cell_type": "markdown",
   "id": "88aa5b68-bdaa-4fcd-a570-036e6caf85d3",
   "metadata": {},
   "source": [
    "#### Finding the neighbor of a given point\n",
    "\n",
    "What's the neighbor of the 2nd element of `points`?"
   ]
  },
  {
   "cell_type": "code",
   "execution_count": 12,
   "id": "65890425-a4c6-45f2-8c57-90c7afd9a204",
   "metadata": {
    "execution": {
     "iopub.execute_input": "2024-06-15T18:59:33.683179Z",
     "iopub.status.busy": "2024-06-15T18:59:33.683091Z",
     "iopub.status.idle": "2024-06-15T18:59:33.684782Z",
     "shell.execute_reply": "2024-06-15T18:59:33.684599Z",
     "shell.execute_reply.started": "2024-06-15T18:59:33.683171Z"
    }
   },
   "outputs": [
    {
     "name": "stdout",
     "output_type": "stream",
     "text": [
      "points=[(1, 1), (2, 2), (4, 4)]\n",
      "points[1]=(2, 2)\n"
     ]
    }
   ],
   "source": [
    "print(f\"{points=}\\n{points[1]=}\")"
   ]
  },
  {
   "cell_type": "code",
   "execution_count": 13,
   "id": "ac10107e-1f1b-437c-a0c5-0323460a9bff",
   "metadata": {
    "execution": {
     "iopub.execute_input": "2024-06-15T18:59:33.685173Z",
     "iopub.status.busy": "2024-06-15T18:59:33.685115Z",
     "iopub.status.idle": "2024-06-15T18:59:33.687289Z",
     "shell.execute_reply": "2024-06-15T18:59:33.687107Z",
     "shell.execute_reply.started": "2024-06-15T18:59:33.685167Z"
    }
   },
   "outputs": [
    {
     "data": {
      "text/plain": [
       "(1, 1)"
      ]
     },
     "execution_count": 13,
     "metadata": {},
     "output_type": "execute_result"
    }
   ],
   "source": [
    "neigh = fp._find_neighbor(points[1])\n",
    "neigh[\"neigh\"]"
   ]
  },
  {
   "cell_type": "markdown",
   "id": "f16b9c4c-91b2-415b-bb23-c0ef870cfde6",
   "metadata": {},
   "source": [
    "How far away is it?"
   ]
  },
  {
   "cell_type": "code",
   "execution_count": 14,
   "id": "9284e7a7-0765-4d9e-9f51-0c64217fe778",
   "metadata": {
    "execution": {
     "iopub.execute_input": "2024-06-15T18:59:33.687723Z",
     "iopub.status.busy": "2024-06-15T18:59:33.687661Z",
     "iopub.status.idle": "2024-06-15T18:59:33.689574Z",
     "shell.execute_reply": "2024-06-15T18:59:33.689367Z",
     "shell.execute_reply.started": "2024-06-15T18:59:33.687716Z"
    }
   },
   "outputs": [
    {
     "data": {
      "text/plain": [
       "1.4142135623730951"
      ]
     },
     "execution_count": 14,
     "metadata": {},
     "output_type": "execute_result"
    }
   ],
   "source": [
    "neigh[\"dist\"]"
   ]
  },
  {
   "cell_type": "markdown",
   "id": "ddfa1457-7a75-4074-8da6-4120653068c9",
   "metadata": {},
   "source": [
    "How about about a point outside `points` set?"
   ]
  },
  {
   "cell_type": "code",
   "execution_count": 15,
   "id": "2e255c57-90c4-4596-8f31-9f352cc89357",
   "metadata": {
    "execution": {
     "iopub.execute_input": "2024-06-15T18:59:33.690071Z",
     "iopub.status.busy": "2024-06-15T18:59:33.689975Z",
     "iopub.status.idle": "2024-06-15T18:59:33.691883Z",
     "shell.execute_reply": "2024-06-15T18:59:33.691718Z",
     "shell.execute_reply.started": "2024-06-15T18:59:33.690064Z"
    }
   },
   "outputs": [
    {
     "data": {
      "text/plain": [
       "(4, 4)"
      ]
     },
     "execution_count": 15,
     "metadata": {},
     "output_type": "execute_result"
    }
   ],
   "source": [
    "neigh = fp._find_neighbor((25, 25))\n",
    "neigh[\"neigh\"]"
   ]
  },
  {
   "cell_type": "code",
   "execution_count": 16,
   "id": "dcc5c91e-1ab4-4ee9-acad-a9a349de8793",
   "metadata": {
    "execution": {
     "iopub.execute_input": "2024-06-15T18:59:33.692191Z",
     "iopub.status.busy": "2024-06-15T18:59:33.692136Z",
     "iopub.status.idle": "2024-06-15T18:59:33.694180Z",
     "shell.execute_reply": "2024-06-15T18:59:33.693986Z",
     "shell.execute_reply.started": "2024-06-15T18:59:33.692185Z"
    }
   },
   "outputs": [
    {
     "data": {
      "text/plain": [
       "29.698484809834994"
      ]
     },
     "execution_count": 16,
     "metadata": {},
     "output_type": "execute_result"
    }
   ],
   "source": [
    "neigh[\"dist\"]"
   ]
  },
  {
   "cell_type": "markdown",
   "id": "19212ce6-8cfd-4a1d-99c4-ed34412628a7",
   "metadata": {},
   "source": [
    "#### Computing multiple distances at once\n",
    "\n",
    "How about the distance from a new point at `(-1, -1)` to all points in `fp`?"
   ]
  },
  {
   "cell_type": "code",
   "execution_count": 17,
   "id": "05d78d6f-1f73-4718-b070-cc81e27154ec",
   "metadata": {
    "execution": {
     "iopub.execute_input": "2024-06-15T18:59:33.694597Z",
     "iopub.status.busy": "2024-06-15T18:59:33.694529Z",
     "iopub.status.idle": "2024-06-15T18:59:33.696568Z",
     "shell.execute_reply": "2024-06-15T18:59:33.696373Z",
     "shell.execute_reply.started": "2024-06-15T18:59:33.694591Z"
    }
   },
   "outputs": [
    {
     "data": {
      "text/plain": [
       "((2.8284271247461903, (1, 1)),\n",
       " (4.242640687119285, (2, 2)),\n",
       " (7.0710678118654755, (4, 4)))"
      ]
     },
     "execution_count": 17,
     "metadata": {},
     "output_type": "execute_result"
    }
   ],
   "source": [
    "tuple(fp.sdist((-1, -1)))"
   ]
  },
  {
   "cell_type": "markdown",
   "id": "6d461009-a5c8-49af-b337-9706ab3f96ff",
   "metadata": {},
   "source": [
    "--------------\n",
    "\n",
    "## 3. Appending Values & Vizualization\n",
    "\n",
    "A key strength of `fastpair` is the ability to incorporate additional points dynamically (or remove them) while the data-structure responds and updates accordingly (see this paper referenced below for details).\n",
    "\n",
    "* ***David Eppstein*** (2001). *Fast hierarchical clustering and other applications of dynamic closest pairs*. ACM J. Exp. Algorithmics 5 (2000), 1–es. doi: [10.1145/351827.351829](https://doi.org/10.1145/351827.351829)\n",
    "\n",
    "### Explore the current state of the `fp` instance\n",
    "\n",
    "#### Query the closest pair"
   ]
  },
  {
   "cell_type": "code",
   "execution_count": 18,
   "id": "aa6bab3b-18d0-489e-9d56-2b1e215b8f36",
   "metadata": {
    "execution": {
     "iopub.execute_input": "2024-06-15T18:59:33.696931Z",
     "iopub.status.busy": "2024-06-15T18:59:33.696865Z",
     "iopub.status.idle": "2024-06-15T18:59:33.699292Z",
     "shell.execute_reply": "2024-06-15T18:59:33.699068Z",
     "shell.execute_reply.started": "2024-06-15T18:59:33.696924Z"
    }
   },
   "outputs": [
    {
     "data": {
      "text/plain": [
       "(1.4142135623730951, ((1, 1), (2, 2)))"
      ]
     },
     "execution_count": 18,
     "metadata": {},
     "output_type": "execute_result"
    }
   ],
   "source": [
    "dist, (a, b) = fp.closest_pair()\n",
    "dist, (a, b)"
   ]
  },
  {
   "cell_type": "markdown",
   "id": "fae6b80b-34e5-4ce2-807f-144035befaf4",
   "metadata": {},
   "source": [
    "Here we can verify the closest pair is `((1, 1), (2, 2))` at `≈1.414` units distance.\n",
    "\n",
    "#### Visualize\n",
    "* 3 initial points in `\"cadetblue\"`\n",
    "* Current closest pair in `\"red\"`"
   ]
  },
  {
   "cell_type": "code",
   "execution_count": 19,
   "id": "62b69b65-7070-4667-a447-cc8f7b2a6396",
   "metadata": {
    "execution": {
     "iopub.execute_input": "2024-06-15T18:59:33.699861Z",
     "iopub.status.busy": "2024-06-15T18:59:33.699640Z",
     "iopub.status.idle": "2024-06-15T18:59:33.786552Z",
     "shell.execute_reply": "2024-06-15T18:59:33.786306Z",
     "shell.execute_reply.started": "2024-06-15T18:59:33.699853Z"
    }
   },
   "outputs": [
    {
     "data": {
      "image/png": "[encoded data removed]",
      "text/plain": [
       "<Figure size 640x480 with 1 Axes>"
      ]
     },
     "metadata": {
      "image/png": {
       "height": 434,
       "width": 539
      }
     },
     "output_type": "display_data"
    }
   ],
   "source": [
    "plt.scatter(*zip(*fp.points, strict=True), s=600, color=\"cadetblue\", zorder=1)\n",
    "plt.scatter(*zip(a, b, strict=True), color=\"red\", ec=\"k\", zorder=2)\n",
    "plt.xlim(0, 5)\n",
    "plt.ylim(0, 5)\n",
    "plt.title(f\"Closest pair is {dist:.2} units apart.\");"
   ]
  },
  {
   "cell_type": "markdown",
   "id": "27db7630-2c71-458e-b95f-4af0e1ba6c3b",
   "metadata": {},
   "source": [
    "### Append several points\n",
    "\n",
    "Add 3 more 2D points with the `+=` operator and query again."
   ]
  },
  {
   "cell_type": "code",
   "execution_count": 20,
   "id": "55c1f26a-62e1-4c9b-a407-23f476967f65",
   "metadata": {
    "execution": {
     "iopub.execute_input": "2024-06-15T18:59:33.787074Z",
     "iopub.status.busy": "2024-06-15T18:59:33.786995Z",
     "iopub.status.idle": "2024-06-15T18:59:33.789125Z",
     "shell.execute_reply": "2024-06-15T18:59:33.788914Z",
     "shell.execute_reply.started": "2024-06-15T18:59:33.787066Z"
    }
   },
   "outputs": [],
   "source": [
    "fp += (1, 2)\n",
    "fp += (3, 3)\n",
    "fp += (2, 4)"
   ]
  },
  {
   "cell_type": "markdown",
   "id": "4f198e80-d1d4-4bd2-8a03-242c58441d24",
   "metadata": {},
   "source": [
    "#### Query the closest pair"
   ]
  },
  {
   "cell_type": "code",
   "execution_count": 21,
   "id": "58e711ce-4774-4e26-958e-13dabb91c7f2",
   "metadata": {
    "execution": {
     "iopub.execute_input": "2024-06-15T18:59:33.789448Z",
     "iopub.status.busy": "2024-06-15T18:59:33.789378Z",
     "iopub.status.idle": "2024-06-15T18:59:33.791875Z",
     "shell.execute_reply": "2024-06-15T18:59:33.791673Z",
     "shell.execute_reply.started": "2024-06-15T18:59:33.789440Z"
    }
   },
   "outputs": [
    {
     "data": {
      "text/plain": [
       "(1.0, ((1, 2), (1, 1)))"
      ]
     },
     "execution_count": 21,
     "metadata": {},
     "output_type": "execute_result"
    }
   ],
   "source": [
    "dist, (a, b) = fp.closest_pair()\n",
    "dist, (a, b)"
   ]
  },
  {
   "cell_type": "markdown",
   "id": "22d37722-c759-499f-a0c3-37973d2bde93",
   "metadata": {},
   "source": [
    "The closest pair has been updated to `(1, 2), (1, 1))` at exactly `1` units distance.\n",
    "\n",
    "#### Visualize\n",
    "\n",
    "* 3 initial points in `\"cadetblue\"`\n",
    "* 3 additional points in `\"goldenrod\"`\n",
    "* Current closest pair in `\"red\"`"
   ]
  },
  {
   "cell_type": "code",
   "execution_count": 22,
   "id": "f44c118b-cca2-4c40-b0a1-f66436f0ab22",
   "metadata": {
    "execution": {
     "iopub.execute_input": "2024-06-15T18:59:33.792296Z",
     "iopub.status.busy": "2024-06-15T18:59:33.792234Z",
     "iopub.status.idle": "2024-06-15T18:59:33.873693Z",
     "shell.execute_reply": "2024-06-15T18:59:33.873470Z",
     "shell.execute_reply.started": "2024-06-15T18:59:33.792289Z"
    }
   },
   "outputs": [
    {
     "data": {
      "image/png": "[encoded data removed]",
      "text/plain": [
       "<Figure size 640x480 with 1 Axes>"
      ]
     },
     "metadata": {
      "image/png": {
       "height": 434,
       "width": 539
      }
     },
     "output_type": "display_data"
    }
   ],
   "source": [
    "plt.scatter(*zip(*fp.points[:3], strict=True), s=600, color=\"cadetblue\", zorder=1)\n",
    "plt.scatter(*zip(*fp.points[3:], strict=True), s=300, color=\"goldenrod\", zorder=2)\n",
    "plt.scatter(*zip(a, b, strict=True), color=\"red\", ec=\"k\", zorder=3)\n",
    "plt.xlim(0, 5)\n",
    "plt.ylim(0, 5)\n",
    "plt.title(f\"Closest pair is {dist:.2} units apart.\");"
   ]
  },
  {
   "cell_type": "markdown",
   "id": "bbc0a040-967c-4d3d-8ee2-e72bee6973c9",
   "metadata": {},
   "source": [
    "### Append several more points\n",
    "\n",
    "Add 3 more 2D points with the `+=` operator and query again."
   ]
  },
  {
   "cell_type": "code",
   "execution_count": 23,
   "id": "100f2b17-9c34-4d43-9e21-f293744fcb68",
   "metadata": {
    "execution": {
     "iopub.execute_input": "2024-06-15T18:59:33.874275Z",
     "iopub.status.busy": "2024-06-15T18:59:33.874202Z",
     "iopub.status.idle": "2024-06-15T18:59:33.876386Z",
     "shell.execute_reply": "2024-06-15T18:59:33.876170Z",
     "shell.execute_reply.started": "2024-06-15T18:59:33.874268Z"
    }
   },
   "outputs": [],
   "source": [
    "fp += (4, 1)\n",
    "fp += (1, 4)\n",
    "fp += (4, 2)"
   ]
  },
  {
   "cell_type": "markdown",
   "id": "28a6a37e-c8fa-423d-80b2-3fd85c25a2e6",
   "metadata": {},
   "source": [
    "#### Query the closest pair"
   ]
  },
  {
   "cell_type": "code",
   "execution_count": 24,
   "id": "3c729bbd-6e6d-4e1d-bc04-e8bbdb81c9a7",
   "metadata": {
    "execution": {
     "iopub.execute_input": "2024-06-15T18:59:33.876768Z",
     "iopub.status.busy": "2024-06-15T18:59:33.876686Z",
     "iopub.status.idle": "2024-06-15T18:59:33.878895Z",
     "shell.execute_reply": "2024-06-15T18:59:33.878683Z",
     "shell.execute_reply.started": "2024-06-15T18:59:33.876760Z"
    }
   },
   "outputs": [
    {
     "data": {
      "text/plain": [
       "(1.0, ((1, 2), (1, 1)))"
      ]
     },
     "execution_count": 24,
     "metadata": {},
     "output_type": "execute_result"
    }
   ],
   "source": [
    "dist, (a, b) = fp.closest_pair()\n",
    "dist, (a, b)"
   ]
  },
  {
   "cell_type": "markdown",
   "id": "b7febaf1-3b5a-4c7f-98ff-a17b52b0c035",
   "metadata": {},
   "source": [
    "The closest pair remains `(1, 2), (1, 1))` since no closer points were added.\n",
    "\n",
    "#### Visualize\n",
    "\n",
    "* 3 initial points in `\"cadetblue\"`\n",
    "* First set of 3 additional points in `\"goldenrod\"`\n",
    "* Second set of 3 additional points in `\"darkolivegreen\"`\n",
    "* Current closest pair in `\"red\"`"
   ]
  },
  {
   "cell_type": "code",
   "execution_count": 25,
   "id": "1a071985-2d07-4473-a5a4-5c2ab151139d",
   "metadata": {
    "execution": {
     "iopub.execute_input": "2024-06-15T18:59:33.879285Z",
     "iopub.status.busy": "2024-06-15T18:59:33.879227Z",
     "iopub.status.idle": "2024-06-15T18:59:33.963223Z",
     "shell.execute_reply": "2024-06-15T18:59:33.962995Z",
     "shell.execute_reply.started": "2024-06-15T18:59:33.879279Z"
    }
   },
   "outputs": [
    {
     "data": {
      "image/png": "[encoded data removed]",
      "text/plain": [
       "<Figure size 640x480 with 1 Axes>"
      ]
     },
     "metadata": {
      "image/png": {
       "height": 434,
       "width": 539
      }
     },
     "output_type": "display_data"
    }
   ],
   "source": [
    "plt.scatter(*zip(*fp.points[:3], strict=True), s=600, color=\"cadetblue\", zorder=1)\n",
    "plt.scatter(*zip(*fp.points[3:-3], strict=True), s=300, color=\"goldenrod\", zorder=2)\n",
    "plt.scatter(*zip(*fp.points[-3:], strict=True), s=100, color=\"darkolivegreen\", zorder=3)\n",
    "plt.scatter(*zip(a, b, strict=True), color=\"red\", ec=\"k\", zorder=3)\n",
    "plt.xlim(0, 5)\n",
    "plt.ylim(0, 5)\n",
    "plt.title(f\"Closest pair is {dist:.2} units apart.\");"
   ]
  },
  {
   "cell_type": "markdown",
   "id": "935e9fea-a9a2-4b03-a6f5-7fb686d185cb",
   "metadata": {},
   "source": [
    "------------------------"
   ]
  }
 ],
 "metadata": {
  "kernelspec": {
   "display_name": "Python 3 (ipykernel)",
   "language": "python",
   "name": "python3"
  },
  "language_info": {
   "codemirror_mode": {
    "name": "ipython",
    "version": 3
   },
   "file_extension": ".py",
   "mimetype": "text/x-python",
   "name": "python",
   "nbconvert_exporter": "python",
   "pygments_lexer": "ipython3",
   "version": "3.12.3"
  }
 },
 "nbformat": 4,
 "nbformat_minor": 5
}
