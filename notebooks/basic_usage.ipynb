{
 "cells": [
  {
   "cell_type": "markdown",
   "id": "fc0bc877-aa93-40af-9b4a-4d9d89ded2b9",
   "metadata": {},
   "source": [
    "# Basics of FastPair\n",
    "\n",
    "1. Setup\n",
    "2. Properties\n",
    "3. Appending Values & Vizualization"
   ]
  },
  {
   "cell_type": "code",
   "execution_count": 1,
   "id": "2da42c3d-a668-456c-9d05-5b826d2ca963",
   "metadata": {
    "execution": {
     "iopub.execute_input": "2024-06-12T02:00:47.717373Z",
     "iopub.status.busy": "2024-06-12T02:00:47.717160Z",
     "iopub.status.idle": "2024-06-12T02:00:47.752407Z",
     "shell.execute_reply": "2024-06-12T02:00:47.751967Z",
     "shell.execute_reply.started": "2024-06-12T02:00:47.717349Z"
    }
   },
   "outputs": [
    {
     "name": "stdout",
     "output_type": "stream",
     "text": [
      "Last updated: 2024-06-11T22:00:47.741779-04:00\n",
      "\n",
      "Python implementation: CPython\n",
      "Python version       : 3.12.3\n",
      "IPython version      : 8.25.0\n",
      "\n",
      "Compiler    : Clang 16.0.6 \n",
      "OS          : Darwin\n",
      "Release     : 23.5.0\n",
      "Machine     : arm64\n",
      "Processor   : arm\n",
      "CPU cores   : 8\n",
      "Architecture: 64bit\n",
      "\n"
     ]
    }
   ],
   "source": [
    "%config InlineBackend.figure_format = \"retina\"\n",
    "%load_ext watermark\n",
    "%watermark"
   ]
  },
  {
   "cell_type": "code",
   "execution_count": 2,
   "id": "5f2c2691-2f11-4649-aafd-eaf734d5c368",
   "metadata": {
    "execution": {
     "iopub.execute_input": "2024-06-12T02:00:47.753362Z",
     "iopub.status.busy": "2024-06-12T02:00:47.753168Z",
     "iopub.status.idle": "2024-06-12T02:00:47.977527Z",
     "shell.execute_reply": "2024-06-12T02:00:47.977286Z",
     "shell.execute_reply.started": "2024-06-12T02:00:47.753345Z"
    }
   },
   "outputs": [
    {
     "name": "stdout",
     "output_type": "stream",
     "text": [
      "Watermark: 2.4.3\n",
      "\n",
      "matplotlib: 3.9.0\n",
      "fastpair  : 0.1.1.dev8+g5f8e7a5.d20240611\n",
      "numpy     : 1.26.4\n",
      "\n"
     ]
    }
   ],
   "source": [
    "import matplotlib.pyplot as plt\n",
    "import numpy\n",
    "\n",
    "import fastpair\n",
    "\n",
    "%watermark -w\n",
    "%watermark -iv"
   ]
  },
  {
   "cell_type": "markdown",
   "id": "8f7e9080-ff0d-4a6d-8cdc-e7a7b4e71946",
   "metadata": {},
   "source": [
    "---------------------------------\n",
    "\n",
    "## 1. Setup\n",
    "\n",
    "The following helper function will be used the generate random tuples of points in the example.\n",
    "\n",
    "* A reproducibile state can be set with the `seed` argument.\n",
    "* Use the `size` argument to indicate the tuple dimensions.\n",
    "* Set the `n` argument for the number of desired points\n",
    "* `low` and `high` control for minimum and maximum values, respectively.\n",
    "* The [desired distribution](https://numpy.org/doc/stable/reference/random/generator.html#numpy.random.default_rng) is set in `sample`. "
   ]
  },
  {
   "cell_type": "code",
   "execution_count": 3,
   "id": "26917e2e-d996-469e-9028-3edd638ffe10",
   "metadata": {
    "execution": {
     "iopub.execute_input": "2024-06-12T02:00:47.978599Z",
     "iopub.status.busy": "2024-06-12T02:00:47.978494Z",
     "iopub.status.idle": "2024-06-12T02:00:47.980383Z",
     "shell.execute_reply": "2024-06-12T02:00:47.980190Z",
     "shell.execute_reply.started": "2024-06-12T02:00:47.978592Z"
    }
   },
   "outputs": [],
   "source": [
    "def random_points(\n",
    "    seed: int = 0,\n",
    "    size: int | tuple = (2),\n",
    "    n: int = 1,\n",
    "    low: int = 0,\n",
    "    high: int = 20,\n",
    "    sample: str = \"integers\",\n",
    ") -> list[tuple[float]]:\n",
    "    rng = numpy.random.default_rng(seed)\n",
    "    return [\n",
    "        tuple(getattr(rng, sample)(low=low, high=high, size=size)) for i in range(n)\n",
    "    ]"
   ]
  },
  {
   "cell_type": "markdown",
   "id": "ea1a2cd7-7822-4fbc-af59-d1587dc72e9c",
   "metadata": {},
   "source": [
    "Generate a single 1D point from seed `0`"
   ]
  },
  {
   "cell_type": "code",
   "execution_count": 4,
   "id": "e7078d76-f6db-43c9-aff8-8c541ea385f9",
   "metadata": {
    "execution": {
     "iopub.execute_input": "2024-06-12T02:00:47.980711Z",
     "iopub.status.busy": "2024-06-12T02:00:47.980639Z",
     "iopub.status.idle": "2024-06-12T02:00:47.983242Z",
     "shell.execute_reply": "2024-06-12T02:00:47.983070Z",
     "shell.execute_reply.started": "2024-06-12T02:00:47.980703Z"
    }
   },
   "outputs": [
    {
     "data": {
      "text/plain": [
       "[(9,)]"
      ]
     },
     "execution_count": 4,
     "metadata": {},
     "output_type": "execute_result"
    }
   ],
   "source": [
    "random_points(1, 1, 1)"
   ]
  },
  {
   "cell_type": "markdown",
   "id": "cc8f9d0e-fff0-4231-b650-c9f107c9e535",
   "metadata": {},
   "source": [
    "Generate 3 2D points from seed `1`"
   ]
  },
  {
   "cell_type": "code",
   "execution_count": 5,
   "id": "c9a81f46-a864-4d96-a9a3-9e801a8a6e42",
   "metadata": {
    "execution": {
     "iopub.execute_input": "2024-06-12T02:00:47.983606Z",
     "iopub.status.busy": "2024-06-12T02:00:47.983545Z",
     "iopub.status.idle": "2024-06-12T02:00:47.985417Z",
     "shell.execute_reply": "2024-06-12T02:00:47.985231Z",
     "shell.execute_reply.started": "2024-06-12T02:00:47.983599Z"
    }
   },
   "outputs": [
    {
     "data": {
      "text/plain": [
       "[(9, 10), (15, 19), (0, 2)]"
      ]
     },
     "execution_count": 5,
     "metadata": {},
     "output_type": "execute_result"
    }
   ],
   "source": [
    "random_points(1, (2), 3)"
   ]
  },
  {
   "cell_type": "markdown",
   "id": "7a01e92a-78cd-4ced-ac36-868e3ae74969",
   "metadata": {},
   "source": [
    "---------------------\n",
    "\n",
    "## 2. Properties\n",
    "\n",
    "The simplest way to use a `FastPair` data-structure is to initialize one and then update it with data points (via the `+=` operator), which we will explore later. In this first example, we create a sequence of 3 2D random integers and add them to a `FastPair` object."
   ]
  },
  {
   "cell_type": "code",
   "execution_count": 6,
   "id": "119645fe-c0ca-4b9f-a074-9a3c80a24204",
   "metadata": {
    "execution": {
     "iopub.execute_input": "2024-06-12T02:00:47.985856Z",
     "iopub.status.busy": "2024-06-12T02:00:47.985753Z",
     "iopub.status.idle": "2024-06-12T02:00:47.987630Z",
     "shell.execute_reply": "2024-06-12T02:00:47.987468Z",
     "shell.execute_reply.started": "2024-06-12T02:00:47.985849Z"
    }
   },
   "outputs": [
    {
     "data": {
      "text/plain": [
       "[(9, 10), (15, 19), (0, 2)]"
      ]
     },
     "execution_count": 6,
     "metadata": {},
     "output_type": "execute_result"
    }
   ],
   "source": [
    "points = random_points(1, (2), 3)\n",
    "points"
   ]
  },
  {
   "cell_type": "markdown",
   "id": "9f483bbe-9712-436a-9d77-edf5ea63c3f6",
   "metadata": {},
   "source": [
    "Create empty data-structure with default values:\n",
    "\n",
    "* `min_points=10`\n",
    "* `default=scipy.spatial.distance.euclidean`"
   ]
  },
  {
   "cell_type": "code",
   "execution_count": 7,
   "id": "7e37b5d2-e626-486d-a02f-c982eea73907",
   "metadata": {
    "execution": {
     "iopub.execute_input": "2024-06-12T02:00:47.987966Z",
     "iopub.status.busy": "2024-06-12T02:00:47.987901Z",
     "iopub.status.idle": "2024-06-12T02:00:47.989627Z",
     "shell.execute_reply": "2024-06-12T02:00:47.989454Z",
     "shell.execute_reply.started": "2024-06-12T02:00:47.987959Z"
    }
   },
   "outputs": [
    {
     "data": {
      "text/plain": [
       "<fastpair.base.FastPair at 0x14966b050>"
      ]
     },
     "execution_count": 7,
     "metadata": {},
     "output_type": "execute_result"
    }
   ],
   "source": [
    "fp = fastpair.FastPair()\n",
    "fp"
   ]
  },
  {
   "cell_type": "markdown",
   "id": "1b2f499d-abbf-4e55-8851-0247865578ef",
   "metadata": {},
   "source": [
    "Add points all at once and build conga line to start:"
   ]
  },
  {
   "cell_type": "code",
   "execution_count": 8,
   "id": "895e21eb-9449-4aa5-999b-5ac13f9e4219",
   "metadata": {
    "execution": {
     "iopub.execute_input": "2024-06-12T02:00:47.989916Z",
     "iopub.status.busy": "2024-06-12T02:00:47.989858Z",
     "iopub.status.idle": "2024-06-12T02:00:47.991625Z",
     "shell.execute_reply": "2024-06-12T02:00:47.991426Z",
     "shell.execute_reply.started": "2024-06-12T02:00:47.989910Z"
    }
   },
   "outputs": [
    {
     "data": {
      "text/plain": [
       "<fastpair.base.FastPair at 0x14966b050>"
      ]
     },
     "execution_count": 8,
     "metadata": {},
     "output_type": "execute_result"
    }
   ],
   "source": [
    "fp.build(points)"
   ]
  },
  {
   "cell_type": "markdown",
   "id": "93727945-6e73-497b-81ab-2f90a6d47099",
   "metadata": {},
   "source": [
    "### `FastPair` has several useful properties and methods\n",
    "\n",
    "1. Checking the size of the data-structure (i.e., how many points are currently stored).\n",
    "2. Testing for containment of a given point\n",
    "3. Various methods for computing the closest pair\n",
    "4. Finding the neighbor of a given point\n",
    "5. Computing multiple distances at once \n",
    "6. ... and *even merging points (clusters)*.\n",
    "\n",
    "<div class=\"alert alert-block alert-warning\">\n",
    "<b>Important:</b> merging functionality is not currently implemented\n",
    "</div>\n",
    "\n",
    "#### Checking size\n",
    "\n",
    "How many point are currently stored?"
   ]
  },
  {
   "cell_type": "code",
   "execution_count": 9,
   "id": "01160597-4c0f-4cd1-9cd4-b7dc8bce6b2a",
   "metadata": {
    "execution": {
     "iopub.execute_input": "2024-06-12T02:00:47.992043Z",
     "iopub.status.busy": "2024-06-12T02:00:47.991982Z",
     "iopub.status.idle": "2024-06-12T02:00:47.994019Z",
     "shell.execute_reply": "2024-06-12T02:00:47.993813Z",
     "shell.execute_reply.started": "2024-06-12T02:00:47.992036Z"
    }
   },
   "outputs": [
    {
     "data": {
      "text/plain": [
       "3"
      ]
     },
     "execution_count": 9,
     "metadata": {},
     "output_type": "execute_result"
    }
   ],
   "source": [
    "len(fp)"
   ]
  },
  {
   "cell_type": "markdown",
   "id": "810822de-e09a-45b2-82c9-9d6b27cb0053",
   "metadata": {},
   "source": [
    "#### Testing containment\n",
    "\n",
    "Is the first element of `points` in the `fp` instance?"
   ]
  },
  {
   "cell_type": "code",
   "execution_count": 10,
   "id": "9d7adeb7-36a4-41e7-93e9-9a1fee6edbed",
   "metadata": {
    "execution": {
     "iopub.execute_input": "2024-06-12T02:00:47.994442Z",
     "iopub.status.busy": "2024-06-12T02:00:47.994356Z",
     "iopub.status.idle": "2024-06-12T02:00:47.996536Z",
     "shell.execute_reply": "2024-06-12T02:00:47.996174Z",
     "shell.execute_reply.started": "2024-06-12T02:00:47.994436Z"
    }
   },
   "outputs": [
    {
     "data": {
      "text/plain": [
       "True"
      ]
     },
     "execution_count": 10,
     "metadata": {},
     "output_type": "execute_result"
    }
   ],
   "source": [
    "points[0] in fp"
   ]
  },
  {
   "cell_type": "markdown",
   "id": "0e039729-481c-46a9-a4df-3d2f92083c80",
   "metadata": {},
   "source": [
    "Is a point as `(25, 25)` in the `fp` instance?"
   ]
  },
  {
   "cell_type": "code",
   "execution_count": 11,
   "id": "30355b1a-3757-43c0-ab95-0733f4f50e81",
   "metadata": {
    "execution": {
     "iopub.execute_input": "2024-06-12T02:00:47.997338Z",
     "iopub.status.busy": "2024-06-12T02:00:47.997263Z",
     "iopub.status.idle": "2024-06-12T02:00:47.999418Z",
     "shell.execute_reply": "2024-06-12T02:00:47.999172Z",
     "shell.execute_reply.started": "2024-06-12T02:00:47.997331Z"
    }
   },
   "outputs": [
    {
     "data": {
      "text/plain": [
       "False"
      ]
     },
     "execution_count": 11,
     "metadata": {},
     "output_type": "execute_result"
    }
   ],
   "source": [
    "(25, 25) in fp"
   ]
  },
  {
   "cell_type": "markdown",
   "id": "caadbd5c-d7c4-4445-ba8c-ef621580d5e6",
   "metadata": {},
   "source": [
    "#### Computing the closest pair\n",
    "\n",
    "Simply call the `fp` instance."
   ]
  },
  {
   "cell_type": "code",
   "execution_count": 12,
   "id": "78034246-f548-4a1c-9872-ea071462c058",
   "metadata": {
    "execution": {
     "iopub.execute_input": "2024-06-12T02:00:48.001699Z",
     "iopub.status.busy": "2024-06-12T02:00:48.001534Z",
     "iopub.status.idle": "2024-06-12T02:00:48.003536Z",
     "shell.execute_reply": "2024-06-12T02:00:48.003330Z",
     "shell.execute_reply.started": "2024-06-12T02:00:48.001690Z"
    }
   },
   "outputs": [
    {
     "data": {
      "text/plain": [
       "(10.816653826391969, ((9, 10), (15, 19)))"
      ]
     },
     "execution_count": 12,
     "metadata": {},
     "output_type": "execute_result"
    }
   ],
   "source": [
    "fp()"
   ]
  },
  {
   "cell_type": "markdown",
   "id": "237107b0-265c-451a-85cc-2dfdf5596754",
   "metadata": {},
   "source": [
    "Call the `closest_pair` method of the `fp` instance."
   ]
  },
  {
   "cell_type": "code",
   "execution_count": 13,
   "id": "9f7315f7-72d0-4693-9808-d1e325f93c8d",
   "metadata": {
    "execution": {
     "iopub.execute_input": "2024-06-12T02:00:48.004333Z",
     "iopub.status.busy": "2024-06-12T02:00:48.004247Z",
     "iopub.status.idle": "2024-06-12T02:00:48.006416Z",
     "shell.execute_reply": "2024-06-12T02:00:48.006222Z",
     "shell.execute_reply.started": "2024-06-12T02:00:48.004324Z"
    }
   },
   "outputs": [
    {
     "data": {
      "text/plain": [
       "(10.816653826391969, ((9, 10), (15, 19)))"
      ]
     },
     "execution_count": 13,
     "metadata": {},
     "output_type": "execute_result"
    }
   ],
   "source": [
    "fp.closest_pair()"
   ]
  },
  {
   "cell_type": "markdown",
   "id": "d68a8c5a-094a-4e3e-bce5-f8d3684943e8",
   "metadata": {},
   "source": [
    "Call the `closest_pair_brute_force` method."
   ]
  },
  {
   "cell_type": "code",
   "execution_count": 14,
   "id": "37366768-415c-42ab-9c18-110750160483",
   "metadata": {
    "execution": {
     "iopub.execute_input": "2024-06-12T02:00:48.006952Z",
     "iopub.status.busy": "2024-06-12T02:00:48.006878Z",
     "iopub.status.idle": "2024-06-12T02:00:48.008937Z",
     "shell.execute_reply": "2024-06-12T02:00:48.008735Z",
     "shell.execute_reply.started": "2024-06-12T02:00:48.006944Z"
    }
   },
   "outputs": [
    {
     "data": {
      "text/plain": [
       "(10.816653826391969, ((9, 10), (15, 19)))"
      ]
     },
     "execution_count": 14,
     "metadata": {},
     "output_type": "execute_result"
    }
   ],
   "source": [
    "fp.closest_pair_brute_force()"
   ]
  },
  {
   "cell_type": "markdown",
   "id": "88aa5b68-bdaa-4fcd-a570-036e6caf85d3",
   "metadata": {},
   "source": [
    "#### Finding the neighbor of a given point\n",
    "\n",
    "What's the neighbor of the 2nd element of `points`?"
   ]
  },
  {
   "cell_type": "code",
   "execution_count": 15,
   "id": "ac10107e-1f1b-437c-a0c5-0323460a9bff",
   "metadata": {
    "execution": {
     "iopub.execute_input": "2024-06-12T02:00:48.009444Z",
     "iopub.status.busy": "2024-06-12T02:00:48.009343Z",
     "iopub.status.idle": "2024-06-12T02:00:48.011279Z",
     "shell.execute_reply": "2024-06-12T02:00:48.011088Z",
     "shell.execute_reply.started": "2024-06-12T02:00:48.009437Z"
    }
   },
   "outputs": [
    {
     "data": {
      "text/plain": [
       "(9, 10)"
      ]
     },
     "execution_count": 15,
     "metadata": {},
     "output_type": "execute_result"
    }
   ],
   "source": [
    "neigh = fp._find_neighbor(points[1])\n",
    "neigh[\"neigh\"]"
   ]
  },
  {
   "cell_type": "markdown",
   "id": "f16b9c4c-91b2-415b-bb23-c0ef870cfde6",
   "metadata": {},
   "source": [
    "How far away is it?"
   ]
  },
  {
   "cell_type": "code",
   "execution_count": 16,
   "id": "9284e7a7-0765-4d9e-9f51-0c64217fe778",
   "metadata": {
    "execution": {
     "iopub.execute_input": "2024-06-12T02:00:48.011695Z",
     "iopub.status.busy": "2024-06-12T02:00:48.011622Z",
     "iopub.status.idle": "2024-06-12T02:00:48.014009Z",
     "shell.execute_reply": "2024-06-12T02:00:48.013783Z",
     "shell.execute_reply.started": "2024-06-12T02:00:48.011682Z"
    }
   },
   "outputs": [
    {
     "data": {
      "text/plain": [
       "10.816653826391969"
      ]
     },
     "execution_count": 16,
     "metadata": {},
     "output_type": "execute_result"
    }
   ],
   "source": [
    "neigh[\"dist\"]"
   ]
  },
  {
   "cell_type": "markdown",
   "id": "ddfa1457-7a75-4074-8da6-4120653068c9",
   "metadata": {},
   "source": [
    "How about about a point outside `points` set?"
   ]
  },
  {
   "cell_type": "code",
   "execution_count": 17,
   "id": "2e255c57-90c4-4596-8f31-9f352cc89357",
   "metadata": {
    "execution": {
     "iopub.execute_input": "2024-06-12T02:00:48.014826Z",
     "iopub.status.busy": "2024-06-12T02:00:48.014632Z",
     "iopub.status.idle": "2024-06-12T02:00:48.016780Z",
     "shell.execute_reply": "2024-06-12T02:00:48.016591Z",
     "shell.execute_reply.started": "2024-06-12T02:00:48.014816Z"
    }
   },
   "outputs": [
    {
     "data": {
      "text/plain": [
       "(15, 19)"
      ]
     },
     "execution_count": 17,
     "metadata": {},
     "output_type": "execute_result"
    }
   ],
   "source": [
    "neigh = fp._find_neighbor((25, 25))\n",
    "neigh[\"neigh\"]"
   ]
  },
  {
   "cell_type": "code",
   "execution_count": 18,
   "id": "dcc5c91e-1ab4-4ee9-acad-a9a349de8793",
   "metadata": {
    "execution": {
     "iopub.execute_input": "2024-06-12T02:00:48.017226Z",
     "iopub.status.busy": "2024-06-12T02:00:48.017160Z",
     "iopub.status.idle": "2024-06-12T02:00:48.019127Z",
     "shell.execute_reply": "2024-06-12T02:00:48.018937Z",
     "shell.execute_reply.started": "2024-06-12T02:00:48.017219Z"
    }
   },
   "outputs": [
    {
     "data": {
      "text/plain": [
       "11.661903789690601"
      ]
     },
     "execution_count": 18,
     "metadata": {},
     "output_type": "execute_result"
    }
   ],
   "source": [
    "neigh[\"dist\"]"
   ]
  },
  {
   "cell_type": "markdown",
   "id": "19212ce6-8cfd-4a1d-99c4-ed34412628a7",
   "metadata": {},
   "source": [
    "#### Computing multiple distances at once\n",
    "\n",
    "How about the distance from a new point at `(-1, -1)` to all points in `fp`?"
   ]
  },
  {
   "cell_type": "code",
   "execution_count": 19,
   "id": "05d78d6f-1f73-4718-b070-cc81e27154ec",
   "metadata": {
    "execution": {
     "iopub.execute_input": "2024-06-12T02:00:48.019873Z",
     "iopub.status.busy": "2024-06-12T02:00:48.019765Z",
     "iopub.status.idle": "2024-06-12T02:00:48.021810Z",
     "shell.execute_reply": "2024-06-12T02:00:48.021605Z",
     "shell.execute_reply.started": "2024-06-12T02:00:48.019866Z"
    }
   },
   "outputs": [
    {
     "data": {
      "text/plain": [
       "((14.866068747318506, (9, 10)),\n",
       " (25.612496949731394, (15, 19)),\n",
       " (3.1622776601683795, (0, 2)))"
      ]
     },
     "execution_count": 19,
     "metadata": {},
     "output_type": "execute_result"
    }
   ],
   "source": [
    "tuple(fp.sdist((-1, -1)))"
   ]
  },
  {
   "cell_type": "markdown",
   "id": "6d461009-a5c8-49af-b337-9706ab3f96ff",
   "metadata": {},
   "source": [
    "--------------\n",
    "\n",
    "## 3. Appending Values & Vizualization\n",
    "\n",
    "A key strength of `fastpair` is the ability to incorporate additional points dynamically (or remove them) while the data-structure responds and updates accordingly (see this paper referenced below for details).\n",
    "\n",
    "* ***David Eppstein*** (2001). *Fast hierarchical clustering and other applications of dynamic closest pairs*. ACM J. Exp. Algorithmics 5 (2000), 1–es. doi: [10.1145/351827.351829](https://doi.org/10.1145/351827.351829)\n",
    "\n",
    "### Create a fresh `FastPair` instance\n",
    "\n",
    "4 2D points from a random seed of `101`."
   ]
  },
  {
   "cell_type": "code",
   "execution_count": 20,
   "id": "4da8f641-5732-4932-8d6e-c181bd7af500",
   "metadata": {
    "execution": {
     "iopub.execute_input": "2024-06-12T02:00:48.022233Z",
     "iopub.status.busy": "2024-06-12T02:00:48.022170Z",
     "iopub.status.idle": "2024-06-12T02:00:48.025391Z",
     "shell.execute_reply": "2024-06-12T02:00:48.025178Z",
     "shell.execute_reply.started": "2024-06-12T02:00:48.022225Z"
    }
   },
   "outputs": [
    {
     "data": {
      "text/plain": [
       "<fastpair.base.FastPair at 0x1073c3b30>"
      ]
     },
     "execution_count": 20,
     "metadata": {},
     "output_type": "execute_result"
    }
   ],
   "source": [
    "points = random_points(101, (2), 4)\n",
    "fp = fastpair.FastPair()\n",
    "fp.build(points)"
   ]
  },
  {
   "cell_type": "markdown",
   "id": "7ffc8ae9-59a2-44bb-81ad-72e0beb524be",
   "metadata": {},
   "source": [
    "Query the closest pair."
   ]
  },
  {
   "cell_type": "code",
   "execution_count": 21,
   "id": "9382b0a5-e16f-4bf2-a537-cc442fd7c719",
   "metadata": {
    "execution": {
     "iopub.execute_input": "2024-06-12T02:00:48.025916Z",
     "iopub.status.busy": "2024-06-12T02:00:48.025812Z",
     "iopub.status.idle": "2024-06-12T02:00:48.027816Z",
     "shell.execute_reply": "2024-06-12T02:00:48.027601Z",
     "shell.execute_reply.started": "2024-06-12T02:00:48.025909Z"
    }
   },
   "outputs": [
    {
     "data": {
      "text/plain": [
       "(5.0, ((6, 18), (2, 15)))"
      ]
     },
     "execution_count": 21,
     "metadata": {},
     "output_type": "execute_result"
    }
   ],
   "source": [
    "dist, (a, b) = fp.closest_pair()\n",
    "dist, (a, b)"
   ]
  },
  {
   "cell_type": "markdown",
   "id": "b630b4ed-2c34-4dc1-a7c2-63293e3aab2a",
   "metadata": {},
   "source": [
    "Vizualize the current set.\n",
    "\n",
    "* 4 initial points in `\"cadetblue\"`\n",
    "* Current closest pair in `\"red\"`"
   ]
  },
  {
   "cell_type": "code",
   "execution_count": 22,
   "id": "e544b5d1-6489-43a1-86f0-60b7999870ec",
   "metadata": {
    "execution": {
     "iopub.execute_input": "2024-06-12T02:00:48.028241Z",
     "iopub.status.busy": "2024-06-12T02:00:48.028170Z",
     "iopub.status.idle": "2024-06-12T02:00:48.124236Z",
     "shell.execute_reply": "2024-06-12T02:00:48.123985Z",
     "shell.execute_reply.started": "2024-06-12T02:00:48.028235Z"
    }
   },
   "outputs": [
    {
     "data": {
      "image/png": "[encoded data removed]",
      "text/plain": [
       "<Figure size 640x480 with 1 Axes>"
      ]
     },
     "metadata": {
      "image/png": {
       "height": 434,
       "width": 572
      }
     },
     "output_type": "display_data"
    }
   ],
   "source": [
    "plt.scatter(*zip(*fp.points, strict=True), s=600, color=\"cadetblue\", zorder=1)\n",
    "plt.scatter(*zip(a, b, strict=True), color=\"red\", ec=\"k\", zorder=2)\n",
    "plt.xlim(0, 20)\n",
    "plt.ylim(0, 20)\n",
    "plt.title(f\"Closest pair is {dist:.2} units apart.\");"
   ]
  },
  {
   "cell_type": "markdown",
   "id": "cfcae4e4-0093-4776-8174-d0e6396afc2b",
   "metadata": {},
   "source": [
    "Add 4 more 2D points with the `+=` operator and query again."
   ]
  },
  {
   "cell_type": "code",
   "execution_count": 23,
   "id": "95725979-b1e1-4561-a0cb-817bc012a6b6",
   "metadata": {
    "execution": {
     "iopub.execute_input": "2024-06-12T02:00:48.124743Z",
     "iopub.status.busy": "2024-06-12T02:00:48.124670Z",
     "iopub.status.idle": "2024-06-12T02:00:48.127973Z",
     "shell.execute_reply": "2024-06-12T02:00:48.127776Z",
     "shell.execute_reply.started": "2024-06-12T02:00:48.124736Z"
    }
   },
   "outputs": [
    {
     "data": {
      "text/plain": [
       "(2.23606797749979, ((9, 10), (7, 11)))"
      ]
     },
     "execution_count": 23,
     "metadata": {},
     "output_type": "execute_result"
    }
   ],
   "source": [
    "for p in range(4):\n",
    "    fp += tuple(*random_points(p, (2), 1))\n",
    "\n",
    "dist, (a, b) = fp.closest_pair()\n",
    "dist, (a, b)"
   ]
  },
  {
   "cell_type": "markdown",
   "id": "eb398691-723d-41d0-a59d-b7ea92cb3218",
   "metadata": {},
   "source": [
    "The closest pair has been updated!\n",
    "\n",
    "Vizualize the current set.\n",
    "\n",
    "* 4 initial points in `\"cadetblue\"`\n",
    "* 4 additional points in `\"goldenrod\"`\n",
    "* Current closest pair in `\"red\"`"
   ]
  },
  {
   "cell_type": "code",
   "execution_count": 24,
   "id": "b29156fa-5ec2-4e93-ab3a-317b4a298ceb",
   "metadata": {
    "execution": {
     "iopub.execute_input": "2024-06-12T02:00:48.128421Z",
     "iopub.status.busy": "2024-06-12T02:00:48.128356Z",
     "iopub.status.idle": "2024-06-12T02:00:48.222337Z",
     "shell.execute_reply": "2024-06-12T02:00:48.222104Z",
     "shell.execute_reply.started": "2024-06-12T02:00:48.128414Z"
    }
   },
   "outputs": [
    {
     "data": {
      "image/png": "[encoded data removed]",
      "text/plain": [
       "<Figure size 640x480 with 1 Axes>"
      ]
     },
     "metadata": {
      "image/png": {
       "height": 434,
       "width": 572
      }
     },
     "output_type": "display_data"
    }
   ],
   "source": [
    "plt.scatter(*zip(*fp.points[:4], strict=True), s=600, color=\"cadetblue\", zorder=1)\n",
    "plt.scatter(*zip(*fp.points[4:], strict=True), s=300, color=\"goldenrod\", zorder=2)\n",
    "plt.scatter(*zip(a, b, strict=True), color=\"red\", ec=\"k\", zorder=3)\n",
    "plt.xlim(0, 20)\n",
    "plt.ylim(0, 20)\n",
    "plt.title(f\"Closest pair is {dist:.2} units apart.\");"
   ]
  },
  {
   "cell_type": "markdown",
   "id": "aa581029-388f-4b6b-ac0e-0cd4e39aedcd",
   "metadata": {},
   "source": [
    "Add another 4 2D points and query again."
   ]
  },
  {
   "cell_type": "code",
   "execution_count": 25,
   "id": "9cf2120b-3f9c-47a7-9398-72d5c41605b3",
   "metadata": {
    "execution": {
     "iopub.execute_input": "2024-06-12T02:00:48.222902Z",
     "iopub.status.busy": "2024-06-12T02:00:48.222831Z",
     "iopub.status.idle": "2024-06-12T02:00:48.225882Z",
     "shell.execute_reply": "2024-06-12T02:00:48.225687Z",
     "shell.execute_reply.started": "2024-06-12T02:00:48.222895Z"
    }
   },
   "outputs": [
    {
     "data": {
      "text/plain": [
       "(1.0, ((8, 10), (9, 10)))"
      ]
     },
     "execution_count": 25,
     "metadata": {},
     "output_type": "execute_result"
    }
   ],
   "source": [
    "for p in range(4):\n",
    "    fp += tuple(*random_points(p + 2**p, (2), 1))\n",
    "\n",
    "dist, (a, b) = fp.closest_pair()\n",
    "dist, (a, b)"
   ]
  },
  {
   "cell_type": "markdown",
   "id": "dab306cd-c44a-4212-8117-f395d20b9977",
   "metadata": {},
   "source": [
    "The closest pair has once again been updated!\n",
    "\n",
    "Vizualize the current set.\n",
    "\n",
    "* 4 initial points in `\"cadetblue\"`\n",
    "* First set of 4 additional points in `\"goldenrod\"`\n",
    "* Second set of 4 additional points in `\"darkolivegreen\"`\n",
    "* Current closest pair in `\"red\"`"
   ]
  },
  {
   "cell_type": "code",
   "execution_count": 26,
   "id": "0255e23a-180c-4a17-a386-e8e3206dd9f5",
   "metadata": {
    "execution": {
     "iopub.execute_input": "2024-06-12T02:00:48.226275Z",
     "iopub.status.busy": "2024-06-12T02:00:48.226215Z",
     "iopub.status.idle": "2024-06-12T02:00:48.319771Z",
     "shell.execute_reply": "2024-06-12T02:00:48.319561Z",
     "shell.execute_reply.started": "2024-06-12T02:00:48.226269Z"
    }
   },
   "outputs": [
    {
     "data": {
      "image/png": "[encoded data removed]",
      "text/plain": [
       "<Figure size 640x480 with 1 Axes>"
      ]
     },
     "metadata": {
      "image/png": {
       "height": 434,
       "width": 572
      }
     },
     "output_type": "display_data"
    }
   ],
   "source": [
    "plt.scatter(*zip(*fp.points[:4], strict=True), s=600, color=\"cadetblue\", zorder=1)\n",
    "plt.scatter(*zip(*fp.points[4:-4], strict=True), s=300, color=\"goldenrod\", zorder=2)\n",
    "plt.scatter(*zip(*fp.points[-4:], strict=True), s=100, color=\"darkolivegreen\", zorder=3)\n",
    "plt.scatter(*zip(a, b, strict=True), color=\"red\", ec=\"k\", zorder=4)\n",
    "plt.xlim(0, 20)\n",
    "plt.ylim(0, 20)\n",
    "plt.title(f\"Closest pair is {dist:.2} units apart.\");"
   ]
  },
  {
   "cell_type": "markdown",
   "id": "935e9fea-a9a2-4b03-a6f5-7fb686d185cb",
   "metadata": {},
   "source": [
    "------------------------"
   ]
  }
 ],
 "metadata": {
  "kernelspec": {
   "display_name": "Python 3 (ipykernel)",
   "language": "python",
   "name": "python3"
  },
  "language_info": {
   "codemirror_mode": {
    "name": "ipython",
    "version": 3
   },
   "file_extension": ".py",
   "mimetype": "text/x-python",
   "name": "python",
   "nbconvert_exporter": "python",
   "pygments_lexer": "ipython3",
   "version": "3.12.3"
  }
 },
 "nbformat": 4,
 "nbformat_minor": 5
}
